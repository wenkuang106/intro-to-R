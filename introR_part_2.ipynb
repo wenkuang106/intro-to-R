{
  "nbformat": 4,
  "nbformat_minor": 0,
  "metadata": {
    "colab": {
      "provenance": [],
      "authorship_tag": "ABX9TyMMXN2ZaBRUZAWgOiwUP1K8"
    },
    "kernelspec": {
      "name": "ir",
      "display_name": "R"
    },
    "language_info": {
      "name": "R"
    }
  },
  "cells": [
    {
      "cell_type": "markdown",
      "source": [
        "\n",
        "\n",
        "```\n",
        "1.3.1 Variable Assignment\n",
        "```\n",
        "\n"
      ],
      "metadata": {
        "id": "_yRJUV2GVr_f"
      }
    },
    {
      "cell_type": "code",
      "execution_count": 39,
      "metadata": {
        "id": "OAqYB7MzVX-l"
      },
      "outputs": [],
      "source": [
        "x <- 12"
      ]
    },
    {
      "cell_type": "code",
      "source": [
        "# create vector of integers from 0 to 9\n",
        "some_numbers <- c(0,1,2,3,4,5,6,7,8,9)\n",
        "\n",
        "# alternatively \n",
        "some_numbers <- c(0:9)"
      ],
      "metadata": {
        "id": "XllEkRaZVlWy"
      },
      "execution_count": 40,
      "outputs": []
    },
    {
      "cell_type": "code",
      "source": [
        "some_numbers"
      ],
      "metadata": {
        "colab": {
          "base_uri": "https://localhost:8080/",
          "height": 34
        },
        "id": "DHw9MOk4VoiY",
        "outputId": "bbbb404e-54c2-4d58-db3b-a5f890b83a60"
      },
      "execution_count": 41,
      "outputs": [
        {
          "output_type": "display_data",
          "data": {
            "text/html": [
              "<style>\n",
              ".list-inline {list-style: none; margin:0; padding: 0}\n",
              ".list-inline>li {display: inline-block}\n",
              ".list-inline>li:not(:last-child)::after {content: \"\\00b7\"; padding: 0 .5ex}\n",
              "</style>\n",
              "<ol class=list-inline><li>0</li><li>1</li><li>2</li><li>3</li><li>4</li><li>5</li><li>6</li><li>7</li><li>8</li><li>9</li></ol>\n"
            ],
            "text/markdown": "1. 0\n2. 1\n3. 2\n4. 3\n5. 4\n6. 5\n7. 6\n8. 7\n9. 8\n10. 9\n\n\n",
            "text/latex": "\\begin{enumerate*}\n\\item 0\n\\item 1\n\\item 2\n\\item 3\n\\item 4\n\\item 5\n\\item 6\n\\item 7\n\\item 8\n\\item 9\n\\end{enumerate*}\n",
            "text/plain": [
              " [1] 0 1 2 3 4 5 6 7 8 9"
            ]
          },
          "metadata": {}
        }
      ]
    },
    {
      "cell_type": "markdown",
      "source": [
        "```\n",
        "1.3.2 R Functions\n",
        "```"
      ],
      "metadata": {
        "id": "fxeCqnezV1CC"
      }
    },
    {
      "cell_type": "code",
      "source": [
        "mean(some_numbers)"
      ],
      "metadata": {
        "colab": {
          "base_uri": "https://localhost:8080/",
          "height": 34
        },
        "id": "dxUJD_syV2nR",
        "outputId": "06ce78a5-a323-469e-c2b1-2bb45465e8df"
      },
      "execution_count": 42,
      "outputs": [
        {
          "output_type": "display_data",
          "data": {
            "text/html": [
              "4.5"
            ],
            "text/markdown": "4.5",
            "text/latex": "4.5",
            "text/plain": [
              "[1] 4.5"
            ]
          },
          "metadata": {}
        }
      ]
    },
    {
      "cell_type": "markdown",
      "source": [
        "```\n",
        "1.4 R Packages \n",
        "```"
      ],
      "metadata": {
        "id": "zY9aJHcQWLzI"
      }
    },
    {
      "cell_type": "code",
      "source": [
        "library(tidyverse)"
      ],
      "metadata": {
        "id": "e7gb6EoYV_fm"
      },
      "execution_count": 43,
      "outputs": []
    },
    {
      "cell_type": "markdown",
      "source": [
        "```\n",
        "2.2 Loading Data\n",
        "```"
      ],
      "metadata": {
        "id": "ajZhlmpsWctB"
      }
    },
    {
      "cell_type": "code",
      "source": [
        "paygap <- read.csv('/content/UK Gender Pay Gap Data - 2019 to 2020.csv', header = TRUE)"
      ],
      "metadata": {
        "id": "0isiD51uWQ9y"
      },
      "execution_count": 44,
      "outputs": []
    },
    {
      "cell_type": "code",
      "source": [
        "head(paygap, n = 5)"
      ],
      "metadata": {
        "colab": {
          "base_uri": "https://localhost:8080/",
          "height": 674
        },
        "id": "6tqgSJzlXFxg",
        "outputId": "263f3e30-762d-4b04-f020-efc6062c8f06"
      },
      "execution_count": 45,
      "outputs": [
        {
          "output_type": "display_data",
          "data": {
            "text/html": [
              "<table class=\"dataframe\">\n",
              "<caption>A data.frame: 5 × 27</caption>\n",
              "<thead>\n",
              "\t<tr><th></th><th scope=col>EmployerName</th><th scope=col>EmployerId</th><th scope=col>Address</th><th scope=col>PostCode</th><th scope=col>CompanyNumber</th><th scope=col>SicCodes</th><th scope=col>DiffMeanHourlyPercent</th><th scope=col>DiffMedianHourlyPercent</th><th scope=col>DiffMeanBonusPercent</th><th scope=col>DiffMedianBonusPercent</th><th scope=col>⋯</th><th scope=col>FemaleUpperMiddleQuartile</th><th scope=col>MaleTopQuartile</th><th scope=col>FemaleTopQuartile</th><th scope=col>CompanyLinkToGPGInfo</th><th scope=col>ResponsiblePerson</th><th scope=col>EmployerSize</th><th scope=col>CurrentName</th><th scope=col>SubmittedAfterTheDeadline</th><th scope=col>DueDate</th><th scope=col>DateSubmitted</th></tr>\n",
              "\t<tr><th></th><th scope=col>&lt;chr&gt;</th><th scope=col>&lt;int&gt;</th><th scope=col>&lt;chr&gt;</th><th scope=col>&lt;chr&gt;</th><th scope=col>&lt;chr&gt;</th><th scope=col>&lt;chr&gt;</th><th scope=col>&lt;dbl&gt;</th><th scope=col>&lt;dbl&gt;</th><th scope=col>&lt;dbl&gt;</th><th scope=col>&lt;dbl&gt;</th><th scope=col>⋯</th><th scope=col>&lt;dbl&gt;</th><th scope=col>&lt;dbl&gt;</th><th scope=col>&lt;dbl&gt;</th><th scope=col>&lt;chr&gt;</th><th scope=col>&lt;chr&gt;</th><th scope=col>&lt;chr&gt;</th><th scope=col>&lt;chr&gt;</th><th scope=col>&lt;chr&gt;</th><th scope=col>&lt;chr&gt;</th><th scope=col>&lt;chr&gt;</th></tr>\n",
              "</thead>\n",
              "<tbody>\n",
              "\t<tr><th scope=row>1</th><td>'PRIFYSGOL ABERYSTWYTH' AND 'ABERYSTWYTH UNIVERSITY'</td><td>19070</td><td>Aberystwyth University, Penglais, Ceredigion, SY23 3FL                            </td><td>SY23 3FL</td><td>RC000641</td><td>                     </td><td>11.5</td><td>10.3</td><td>    NA</td><td>    NA</td><td>⋯</td><td>60.0</td><td>62.0</td><td>38.0</td><td>https://www.aber.ac.uk/en/equality/genderpaygapreporting2019/ \n",
              "\n",
              "https://www.aber.ac.uk/cy/equality/gender-pay-gap/</td><td>Elizabeth Treasure (Vice-Chancellor)          </td><td>1000 to 4999</td><td>'PRIFYSGOL ABERYSTWYTH' AND 'ABERYSTWYTH UNIVERSITY'</td><td>False</td><td>2020/04/05 00:00:00</td><td>2020/04/03 14:47:45</td></tr>\n",
              "\t<tr><th scope=row>2</th><td>10 TRINITY SQUARE HOTEL LIMITED                     </td><td>19455</td><td>5 Market Yard Mews, 194-204 Bermondsey Street, London, United Kingdom, SE1 3TQ    </td><td>SE1 3TQ </td><td>08064685</td><td>82990                </td><td> 8.7</td><td>10.3</td><td>  29.6</td><td>  54.5</td><td>⋯</td><td>21.1</td><td>66.7</td><td>33.3</td><td>                                                                                                                    </td><td>Linda Stigter (Director of People and Culture)</td><td>250 to 499  </td><td>10 TRINITY SQUARE HOTEL LIMITED                     </td><td>False</td><td>2020/04/05 00:00:00</td><td>2020/03/19 15:51:20</td></tr>\n",
              "\t<tr><th scope=row>3</th><td>1LIFE MANAGEMENT SOLUTIONS LIMITED                  </td><td>  687</td><td>Ldh House St Ives Business Park, Parsons Green, St. Ives, Cambridgeshire, PE27 4AA</td><td>PE27 4AA</td><td>02566586</td><td>93110,\n",
              "93130,\n",
              "93290</td><td>11.0</td><td>-0.5</td><td>  81.5</td><td>  94.2</td><td>⋯</td><td>57.7</td><td>44.2</td><td>55.8</td><td>https://www.1life.co.uk/gender-pay-gap                                                                              </td><td>Mark Braithwaite (Managing Director)          </td><td>250 to 499  </td><td>1LIFE MANAGEMENT SOLUTIONS LIMITED                  </td><td>False</td><td>2020/04/05 00:00:00</td><td>2020/03/10 17:03:17</td></tr>\n",
              "\t<tr><th scope=row>4</th><td>1ST CHOICE STAFF RECRUITMENT LIMITED                </td><td>18136</td><td>1ST CHOICE RECRUITMENT, 8 St. Loyes Street, Bedford, MK40 1EP                     </td><td>MK40 1EP</td><td>07972006</td><td>78109                </td><td>-2.3</td><td> 0.0</td><td>-114.8</td><td>-249.3</td><td>⋯</td><td>37.1</td><td>50.0</td><td>50.0</td><td>https://www.1stchoice.net/gender-pay-gap-report-2019/                                                               </td><td>Gill Knight (MD)                              </td><td>250 to 499  </td><td>1ST CHOICE STAFF RECRUITMENT LIMITED                </td><td>False</td><td>2020/04/05 00:00:00</td><td>2020/01/24 09:37:01</td></tr>\n",
              "\t<tr><th scope=row>5</th><td>1ST HOME CARE LTD.                                  </td><td>17484</td><td>Real Life Options, 35 East Port, Dunfermline, Fife, Scotland, KY12 7LG            </td><td>KY12 7LG</td><td>SC272838</td><td>86900,\n",
              "88100        </td><td>-2.0</td><td> 0.5</td><td>    NA</td><td>    NA</td><td>⋯</td><td>91.0</td><td> 9.0</td><td>91.0</td><td>https://reallifeoptions.org/                                                                                        </td><td>Ian Hardcastle (Chief Operating Officer)      </td><td>250 to 499  </td><td>1ST HOME CARE LTD.                                  </td><td>False</td><td>2020/04/05 00:00:00</td><td>2020/03/12 08:21:06</td></tr>\n",
              "</tbody>\n",
              "</table>\n"
            ],
            "text/markdown": "\nA data.frame: 5 × 27\n\n| <!--/--> | EmployerName &lt;chr&gt; | EmployerId &lt;int&gt; | Address &lt;chr&gt; | PostCode &lt;chr&gt; | CompanyNumber &lt;chr&gt; | SicCodes &lt;chr&gt; | DiffMeanHourlyPercent &lt;dbl&gt; | DiffMedianHourlyPercent &lt;dbl&gt; | DiffMeanBonusPercent &lt;dbl&gt; | DiffMedianBonusPercent &lt;dbl&gt; | ⋯ ⋯ | FemaleUpperMiddleQuartile &lt;dbl&gt; | MaleTopQuartile &lt;dbl&gt; | FemaleTopQuartile &lt;dbl&gt; | CompanyLinkToGPGInfo &lt;chr&gt; | ResponsiblePerson &lt;chr&gt; | EmployerSize &lt;chr&gt; | CurrentName &lt;chr&gt; | SubmittedAfterTheDeadline &lt;chr&gt; | DueDate &lt;chr&gt; | DateSubmitted &lt;chr&gt; |\n|---|---|---|---|---|---|---|---|---|---|---|---|---|---|---|---|---|---|---|---|---|---|\n| 1 | 'PRIFYSGOL ABERYSTWYTH' AND 'ABERYSTWYTH UNIVERSITY' | 19070 | Aberystwyth University, Penglais, Ceredigion, SY23 3FL                             | SY23 3FL | RC000641 | <!----> | 11.5 | 10.3 |     NA |     NA | ⋯ | 60.0 | 62.0 | 38.0 | https://www.aber.ac.uk/en/equality/genderpaygapreporting2019/ \n\nhttps://www.aber.ac.uk/cy/equality/gender-pay-gap/ | Elizabeth Treasure (Vice-Chancellor)           | 1000 to 4999 | 'PRIFYSGOL ABERYSTWYTH' AND 'ABERYSTWYTH UNIVERSITY' | False | 2020/04/05 00:00:00 | 2020/04/03 14:47:45 |\n| 2 | 10 TRINITY SQUARE HOTEL LIMITED                      | 19455 | 5 Market Yard Mews, 194-204 Bermondsey Street, London, United Kingdom, SE1 3TQ     | SE1 3TQ  | 08064685 | 82990                 |  8.7 | 10.3 |   29.6 |   54.5 | ⋯ | 21.1 | 66.7 | 33.3 | <!----> | Linda Stigter (Director of People and Culture) | 250 to 499   | 10 TRINITY SQUARE HOTEL LIMITED                      | False | 2020/04/05 00:00:00 | 2020/03/19 15:51:20 |\n| 3 | 1LIFE MANAGEMENT SOLUTIONS LIMITED                   |   687 | Ldh House St Ives Business Park, Parsons Green, St. Ives, Cambridgeshire, PE27 4AA | PE27 4AA | 02566586 | 93110,\n93130,\n93290 | 11.0 | -0.5 |   81.5 |   94.2 | ⋯ | 57.7 | 44.2 | 55.8 | https://www.1life.co.uk/gender-pay-gap                                                                               | Mark Braithwaite (Managing Director)           | 250 to 499   | 1LIFE MANAGEMENT SOLUTIONS LIMITED                   | False | 2020/04/05 00:00:00 | 2020/03/10 17:03:17 |\n| 4 | 1ST CHOICE STAFF RECRUITMENT LIMITED                 | 18136 | 1ST CHOICE RECRUITMENT, 8 St. Loyes Street, Bedford, MK40 1EP                      | MK40 1EP | 07972006 | 78109                 | -2.3 |  0.0 | -114.8 | -249.3 | ⋯ | 37.1 | 50.0 | 50.0 | https://www.1stchoice.net/gender-pay-gap-report-2019/                                                                | Gill Knight (MD)                               | 250 to 499   | 1ST CHOICE STAFF RECRUITMENT LIMITED                 | False | 2020/04/05 00:00:00 | 2020/01/24 09:37:01 |\n| 5 | 1ST HOME CARE LTD.                                   | 17484 | Real Life Options, 35 East Port, Dunfermline, Fife, Scotland, KY12 7LG             | KY12 7LG | SC272838 | 86900,\n88100         | -2.0 |  0.5 |     NA |     NA | ⋯ | 91.0 |  9.0 | 91.0 | https://reallifeoptions.org/                                                                                         | Ian Hardcastle (Chief Operating Officer)       | 250 to 499   | 1ST HOME CARE LTD.                                   | False | 2020/04/05 00:00:00 | 2020/03/12 08:21:06 |\n\n",
            "text/latex": "A data.frame: 5 × 27\n\\begin{tabular}{r|lllllllllllllllllllll}\n  & EmployerName & EmployerId & Address & PostCode & CompanyNumber & SicCodes & DiffMeanHourlyPercent & DiffMedianHourlyPercent & DiffMeanBonusPercent & DiffMedianBonusPercent & ⋯ & FemaleUpperMiddleQuartile & MaleTopQuartile & FemaleTopQuartile & CompanyLinkToGPGInfo & ResponsiblePerson & EmployerSize & CurrentName & SubmittedAfterTheDeadline & DueDate & DateSubmitted\\\\\n  & <chr> & <int> & <chr> & <chr> & <chr> & <chr> & <dbl> & <dbl> & <dbl> & <dbl> & ⋯ & <dbl> & <dbl> & <dbl> & <chr> & <chr> & <chr> & <chr> & <chr> & <chr> & <chr>\\\\\n\\hline\n\t1 & 'PRIFYSGOL ABERYSTWYTH' AND 'ABERYSTWYTH UNIVERSITY' & 19070 & Aberystwyth University, Penglais, Ceredigion, SY23 3FL                             & SY23 3FL & RC000641 &                       & 11.5 & 10.3 &     NA &     NA & ⋯ & 60.0 & 62.0 & 38.0 & https://www.aber.ac.uk/en/equality/genderpaygapreporting2019/ \n\nhttps://www.aber.ac.uk/cy/equality/gender-pay-gap/ & Elizabeth Treasure (Vice-Chancellor)           & 1000 to 4999 & 'PRIFYSGOL ABERYSTWYTH' AND 'ABERYSTWYTH UNIVERSITY' & False & 2020/04/05 00:00:00 & 2020/04/03 14:47:45\\\\\n\t2 & 10 TRINITY SQUARE HOTEL LIMITED                      & 19455 & 5 Market Yard Mews, 194-204 Bermondsey Street, London, United Kingdom, SE1 3TQ     & SE1 3TQ  & 08064685 & 82990                 &  8.7 & 10.3 &   29.6 &   54.5 & ⋯ & 21.1 & 66.7 & 33.3 &                                                                                                                      & Linda Stigter (Director of People and Culture) & 250 to 499   & 10 TRINITY SQUARE HOTEL LIMITED                      & False & 2020/04/05 00:00:00 & 2020/03/19 15:51:20\\\\\n\t3 & 1LIFE MANAGEMENT SOLUTIONS LIMITED                   &   687 & Ldh House St Ives Business Park, Parsons Green, St. Ives, Cambridgeshire, PE27 4AA & PE27 4AA & 02566586 & 93110,\n93130,\n93290 & 11.0 & -0.5 &   81.5 &   94.2 & ⋯ & 57.7 & 44.2 & 55.8 & https://www.1life.co.uk/gender-pay-gap                                                                               & Mark Braithwaite (Managing Director)           & 250 to 499   & 1LIFE MANAGEMENT SOLUTIONS LIMITED                   & False & 2020/04/05 00:00:00 & 2020/03/10 17:03:17\\\\\n\t4 & 1ST CHOICE STAFF RECRUITMENT LIMITED                 & 18136 & 1ST CHOICE RECRUITMENT, 8 St. Loyes Street, Bedford, MK40 1EP                      & MK40 1EP & 07972006 & 78109                 & -2.3 &  0.0 & -114.8 & -249.3 & ⋯ & 37.1 & 50.0 & 50.0 & https://www.1stchoice.net/gender-pay-gap-report-2019/                                                                & Gill Knight (MD)                               & 250 to 499   & 1ST CHOICE STAFF RECRUITMENT LIMITED                 & False & 2020/04/05 00:00:00 & 2020/01/24 09:37:01\\\\\n\t5 & 1ST HOME CARE LTD.                                   & 17484 & Real Life Options, 35 East Port, Dunfermline, Fife, Scotland, KY12 7LG             & KY12 7LG & SC272838 & 86900,\n88100         & -2.0 &  0.5 &     NA &     NA & ⋯ & 91.0 &  9.0 & 91.0 & https://reallifeoptions.org/                                                                                         & Ian Hardcastle (Chief Operating Officer)       & 250 to 499   & 1ST HOME CARE LTD.                                   & False & 2020/04/05 00:00:00 & 2020/03/12 08:21:06\\\\\n\\end{tabular}\n",
            "text/plain": [
              "  EmployerName                                         EmployerId\n",
              "1 'PRIFYSGOL ABERYSTWYTH' AND 'ABERYSTWYTH UNIVERSITY' 19070     \n",
              "2 10 TRINITY SQUARE HOTEL LIMITED                      19455     \n",
              "3 1LIFE MANAGEMENT SOLUTIONS LIMITED                     687     \n",
              "4 1ST CHOICE STAFF RECRUITMENT LIMITED                 18136     \n",
              "5 1ST HOME CARE LTD.                                   17484     \n",
              "  Address                                                                           \n",
              "1 Aberystwyth University, Penglais, Ceredigion, SY23 3FL                            \n",
              "2 5 Market Yard Mews, 194-204 Bermondsey Street, London, United Kingdom, SE1 3TQ    \n",
              "3 Ldh House St Ives Business Park, Parsons Green, St. Ives, Cambridgeshire, PE27 4AA\n",
              "4 1ST CHOICE RECRUITMENT, 8 St. Loyes Street, Bedford, MK40 1EP                     \n",
              "5 Real Life Options, 35 East Port, Dunfermline, Fife, Scotland, KY12 7LG            \n",
              "  PostCode CompanyNumber SicCodes              DiffMeanHourlyPercent\n",
              "1 SY23 3FL RC000641                            11.5                 \n",
              "2 SE1 3TQ  08064685      82990                  8.7                 \n",
              "3 PE27 4AA 02566586      93110,\\n93130,\\n93290 11.0                 \n",
              "4 MK40 1EP 07972006      78109                 -2.3                 \n",
              "5 KY12 7LG SC272838      86900,\\n88100         -2.0                 \n",
              "  DiffMedianHourlyPercent DiffMeanBonusPercent DiffMedianBonusPercent ⋯\n",
              "1 10.3                        NA                   NA                 ⋯\n",
              "2 10.3                      29.6                 54.5                 ⋯\n",
              "3 -0.5                      81.5                 94.2                 ⋯\n",
              "4  0.0                    -114.8               -249.3                 ⋯\n",
              "5  0.5                        NA                   NA                 ⋯\n",
              "  FemaleUpperMiddleQuartile MaleTopQuartile FemaleTopQuartile\n",
              "1 60.0                      62.0            38.0             \n",
              "2 21.1                      66.7            33.3             \n",
              "3 57.7                      44.2            55.8             \n",
              "4 37.1                      50.0            50.0             \n",
              "5 91.0                       9.0            91.0             \n",
              "  CompanyLinkToGPGInfo                                                                                                \n",
              "1 https://www.aber.ac.uk/en/equality/genderpaygapreporting2019/ \\n\\nhttps://www.aber.ac.uk/cy/equality/gender-pay-gap/\n",
              "2                                                                                                                     \n",
              "3 https://www.1life.co.uk/gender-pay-gap                                                                              \n",
              "4 https://www.1stchoice.net/gender-pay-gap-report-2019/                                                               \n",
              "5 https://reallifeoptions.org/                                                                                        \n",
              "  ResponsiblePerson                              EmployerSize\n",
              "1 Elizabeth Treasure (Vice-Chancellor)           1000 to 4999\n",
              "2 Linda Stigter (Director of People and Culture) 250 to 499  \n",
              "3 Mark Braithwaite (Managing Director)           250 to 499  \n",
              "4 Gill Knight (MD)                               250 to 499  \n",
              "5 Ian Hardcastle (Chief Operating Officer)       250 to 499  \n",
              "  CurrentName                                         \n",
              "1 'PRIFYSGOL ABERYSTWYTH' AND 'ABERYSTWYTH UNIVERSITY'\n",
              "2 10 TRINITY SQUARE HOTEL LIMITED                     \n",
              "3 1LIFE MANAGEMENT SOLUTIONS LIMITED                  \n",
              "4 1ST CHOICE STAFF RECRUITMENT LIMITED                \n",
              "5 1ST HOME CARE LTD.                                  \n",
              "  SubmittedAfterTheDeadline DueDate             DateSubmitted      \n",
              "1 False                     2020/04/05 00:00:00 2020/04/03 14:47:45\n",
              "2 False                     2020/04/05 00:00:00 2020/03/19 15:51:20\n",
              "3 False                     2020/04/05 00:00:00 2020/03/10 17:03:17\n",
              "4 False                     2020/04/05 00:00:00 2020/01/24 09:37:01\n",
              "5 False                     2020/04/05 00:00:00 2020/03/12 08:21:06"
            ]
          },
          "metadata": {}
        }
      ]
    },
    {
      "cell_type": "code",
      "source": [
        "colnames(paygap)"
      ],
      "metadata": {
        "colab": {
          "base_uri": "https://localhost:8080/",
          "height": 69
        },
        "id": "B4etZLnYXIRk",
        "outputId": "5b321e65-362d-4e8d-ce20-2a354bf21bc6"
      },
      "execution_count": 46,
      "outputs": [
        {
          "output_type": "display_data",
          "data": {
            "text/html": [
              "<style>\n",
              ".list-inline {list-style: none; margin:0; padding: 0}\n",
              ".list-inline>li {display: inline-block}\n",
              ".list-inline>li:not(:last-child)::after {content: \"\\00b7\"; padding: 0 .5ex}\n",
              "</style>\n",
              "<ol class=list-inline><li>'EmployerName'</li><li>'EmployerId'</li><li>'Address'</li><li>'PostCode'</li><li>'CompanyNumber'</li><li>'SicCodes'</li><li>'DiffMeanHourlyPercent'</li><li>'DiffMedianHourlyPercent'</li><li>'DiffMeanBonusPercent'</li><li>'DiffMedianBonusPercent'</li><li>'MaleBonusPercent'</li><li>'FemaleBonusPercent'</li><li>'MaleLowerQuartile'</li><li>'FemaleLowerQuartile'</li><li>'MaleLowerMiddleQuartile'</li><li>'FemaleLowerMiddleQuartile'</li><li>'MaleUpperMiddleQuartile'</li><li>'FemaleUpperMiddleQuartile'</li><li>'MaleTopQuartile'</li><li>'FemaleTopQuartile'</li><li>'CompanyLinkToGPGInfo'</li><li>'ResponsiblePerson'</li><li>'EmployerSize'</li><li>'CurrentName'</li><li>'SubmittedAfterTheDeadline'</li><li>'DueDate'</li><li>'DateSubmitted'</li></ol>\n"
            ],
            "text/markdown": "1. 'EmployerName'\n2. 'EmployerId'\n3. 'Address'\n4. 'PostCode'\n5. 'CompanyNumber'\n6. 'SicCodes'\n7. 'DiffMeanHourlyPercent'\n8. 'DiffMedianHourlyPercent'\n9. 'DiffMeanBonusPercent'\n10. 'DiffMedianBonusPercent'\n11. 'MaleBonusPercent'\n12. 'FemaleBonusPercent'\n13. 'MaleLowerQuartile'\n14. 'FemaleLowerQuartile'\n15. 'MaleLowerMiddleQuartile'\n16. 'FemaleLowerMiddleQuartile'\n17. 'MaleUpperMiddleQuartile'\n18. 'FemaleUpperMiddleQuartile'\n19. 'MaleTopQuartile'\n20. 'FemaleTopQuartile'\n21. 'CompanyLinkToGPGInfo'\n22. 'ResponsiblePerson'\n23. 'EmployerSize'\n24. 'CurrentName'\n25. 'SubmittedAfterTheDeadline'\n26. 'DueDate'\n27. 'DateSubmitted'\n\n\n",
            "text/latex": "\\begin{enumerate*}\n\\item 'EmployerName'\n\\item 'EmployerId'\n\\item 'Address'\n\\item 'PostCode'\n\\item 'CompanyNumber'\n\\item 'SicCodes'\n\\item 'DiffMeanHourlyPercent'\n\\item 'DiffMedianHourlyPercent'\n\\item 'DiffMeanBonusPercent'\n\\item 'DiffMedianBonusPercent'\n\\item 'MaleBonusPercent'\n\\item 'FemaleBonusPercent'\n\\item 'MaleLowerQuartile'\n\\item 'FemaleLowerQuartile'\n\\item 'MaleLowerMiddleQuartile'\n\\item 'FemaleLowerMiddleQuartile'\n\\item 'MaleUpperMiddleQuartile'\n\\item 'FemaleUpperMiddleQuartile'\n\\item 'MaleTopQuartile'\n\\item 'FemaleTopQuartile'\n\\item 'CompanyLinkToGPGInfo'\n\\item 'ResponsiblePerson'\n\\item 'EmployerSize'\n\\item 'CurrentName'\n\\item 'SubmittedAfterTheDeadline'\n\\item 'DueDate'\n\\item 'DateSubmitted'\n\\end{enumerate*}\n",
            "text/plain": [
              " [1] \"EmployerName\"              \"EmployerId\"               \n",
              " [3] \"Address\"                   \"PostCode\"                 \n",
              " [5] \"CompanyNumber\"             \"SicCodes\"                 \n",
              " [7] \"DiffMeanHourlyPercent\"     \"DiffMedianHourlyPercent\"  \n",
              " [9] \"DiffMeanBonusPercent\"      \"DiffMedianBonusPercent\"   \n",
              "[11] \"MaleBonusPercent\"          \"FemaleBonusPercent\"       \n",
              "[13] \"MaleLowerQuartile\"         \"FemaleLowerQuartile\"      \n",
              "[15] \"MaleLowerMiddleQuartile\"   \"FemaleLowerMiddleQuartile\"\n",
              "[17] \"MaleUpperMiddleQuartile\"   \"FemaleUpperMiddleQuartile\"\n",
              "[19] \"MaleTopQuartile\"           \"FemaleTopQuartile\"        \n",
              "[21] \"CompanyLinkToGPGInfo\"      \"ResponsiblePerson\"        \n",
              "[23] \"EmployerSize\"              \"CurrentName\"              \n",
              "[25] \"SubmittedAfterTheDeadline\" \"DueDate\"                  \n",
              "[27] \"DateSubmitted\"            "
            ]
          },
          "metadata": {}
        }
      ]
    },
    {
      "cell_type": "code",
      "source": [
        "dim(paygap)"
      ],
      "metadata": {
        "colab": {
          "base_uri": "https://localhost:8080/",
          "height": 34
        },
        "id": "h0kkt0UGXKW0",
        "outputId": "e8d80bfd-355e-44f6-ff13-01bf18a56c57"
      },
      "execution_count": 47,
      "outputs": [
        {
          "output_type": "display_data",
          "data": {
            "text/html": [
              "<style>\n",
              ".list-inline {list-style: none; margin:0; padding: 0}\n",
              ".list-inline>li {display: inline-block}\n",
              ".list-inline>li:not(:last-child)::after {content: \"\\00b7\"; padding: 0 .5ex}\n",
              "</style>\n",
              "<ol class=list-inline><li>6921</li><li>27</li></ol>\n"
            ],
            "text/markdown": "1. 6921\n2. 27\n\n\n",
            "text/latex": "\\begin{enumerate*}\n\\item 6921\n\\item 27\n\\end{enumerate*}\n",
            "text/plain": [
              "[1] 6921   27"
            ]
          },
          "metadata": {}
        }
      ]
    },
    {
      "cell_type": "markdown",
      "source": [
        "```\n",
        "2.3.1 Data types in R\n",
        "```"
      ],
      "metadata": {
        "id": "fv1MqCHMXQ5Y"
      }
    },
    {
      "cell_type": "code",
      "source": [
        "class(paygap)"
      ],
      "metadata": {
        "colab": {
          "base_uri": "https://localhost:8080/",
          "height": 34
        },
        "id": "Kdwm06j4XTy1",
        "outputId": "43b78ec6-4f0d-470c-a5d2-f47f6422f39f"
      },
      "execution_count": 48,
      "outputs": [
        {
          "output_type": "display_data",
          "data": {
            "text/html": [
              "'data.frame'"
            ],
            "text/markdown": "'data.frame'",
            "text/latex": "'data.frame'",
            "text/plain": [
              "[1] \"data.frame\""
            ]
          },
          "metadata": {}
        }
      ]
    },
    {
      "cell_type": "code",
      "source": [
        "class(paygap$DiffMeanHourlyPercent)"
      ],
      "metadata": {
        "colab": {
          "base_uri": "https://localhost:8080/",
          "height": 34
        },
        "id": "eDpkCcSzXWOo",
        "outputId": "ab1b7a84-6c9c-4aff-fa48-99a6385e9a42"
      },
      "execution_count": 49,
      "outputs": [
        {
          "output_type": "display_data",
          "data": {
            "text/html": [
              "'numeric'"
            ],
            "text/markdown": "'numeric'",
            "text/latex": "'numeric'",
            "text/plain": [
              "[1] \"numeric\""
            ]
          },
          "metadata": {}
        }
      ]
    },
    {
      "cell_type": "markdown",
      "source": [
        "```\n",
        "Could not follow the tutorial exercise from hereon as the dataset is no longer there, only the link is there\n",
        "```"
      ],
      "metadata": {
        "id": "QIp8HQjEYdXP"
      }
    },
    {
      "cell_type": "code",
      "source": [
        "# cardiacdata <- read.csv('./data/normtemp.csv', header = TRUE)\n",
        "# head(cardiacdata, n = 5)\n",
        "# colnames(cardiacdata)\n",
        "# dim(cardiacdata)\n",
        "# class(cardiacdata)\n",
        "# class(cardiacdata%bodytemp)\n",
        "# class(cardiacdata$heartrate)"
      ],
      "metadata": {
        "id": "iTkwbYhPXYPl"
      },
      "execution_count": 50,
      "outputs": []
    },
    {
      "cell_type": "markdown",
      "source": [
        "```\n",
        "3.1.1 Indexing\n",
        "```"
      ],
      "metadata": {
        "id": "mBR5ajX0Yp4S"
      }
    },
    {
      "cell_type": "code",
      "source": [
        "# extract element in 1st row and 3th column\n",
        "# cardiacdata[1,3]"
      ],
      "metadata": {
        "id": "feLGQdkTYuDN"
      },
      "execution_count": 51,
      "outputs": []
    },
    {
      "cell_type": "code",
      "source": [
        "# extract rows 5-7 from columns 1-3\n",
        "# cardiacdata[5:7,1:3]"
      ],
      "metadata": {
        "id": "X1O4vAs6Ywsz"
      },
      "execution_count": 52,
      "outputs": []
    },
    {
      "cell_type": "markdown",
      "source": [
        "```\n",
        "3.1.2 Extracting\n",
        "```"
      ],
      "metadata": {
        "id": "mKOHxbBpYzGK"
      }
    },
    {
      "cell_type": "code",
      "source": [
        "# extract column 'bodytemp' and assign to new object 'temperatures'\n",
        "# temperatures <- cardiacdata$bodytemp"
      ],
      "metadata": {
        "id": "o1YlF-e2Y1oj"
      },
      "execution_count": 53,
      "outputs": []
    },
    {
      "cell_type": "markdown",
      "source": [
        "```\n",
        "3.1.3 Selecting columns \n",
        "```"
      ],
      "metadata": {
        "id": "YVKV2S00Y3-O"
      }
    },
    {
      "cell_type": "code",
      "source": [
        "# select columns 'gender' and 'heartrate' and assign to new object 'heartrates'\n",
        "# heartrates <- select(cardiacdata, gender, heartrate)"
      ],
      "metadata": {
        "id": "ydEbvCphY6Ss"
      },
      "execution_count": 54,
      "outputs": []
    },
    {
      "cell_type": "markdown",
      "source": [
        "```\n",
        "3.1.4\n",
        "```"
      ],
      "metadata": {
        "id": "YUNIBNr9Y89Q"
      }
    },
    {
      "cell_type": "code",
      "source": [
        "## append variable names with their respective units\n",
        "# rename 'bodytemp' to 'bodytemp_degF'\n",
        "# cardiacdata <- rename(cardiacdata, bodytemp_degF = bodytemp)\n",
        "\n",
        "# rename 'heartrate' to 'heartrate_bpm'\n",
        "# cardiacdata <- rename(cardiacdata, heartrate_bpm = heartrate)"
      ],
      "metadata": {
        "id": "0_cEa2WiY_Ei"
      },
      "execution_count": 55,
      "outputs": []
    },
    {
      "cell_type": "code",
      "source": [
        "# head(cardiacdata)"
      ],
      "metadata": {
        "id": "gUTUdI3OZCtb"
      },
      "execution_count": 56,
      "outputs": []
    },
    {
      "cell_type": "markdown",
      "source": [
        "```\n",
        "3.1.5\n",
        "```"
      ],
      "metadata": {
        "id": "lX3-qflSZGUj"
      }
    },
    {
      "cell_type": "code",
      "source": [
        "# add new column with body temperature in degrees celsius\n",
        "# cardiacdata <- mutate(cardiacdata, bodytemp_degC = (bodytemp_degF - 32)*(5/9))"
      ],
      "metadata": {
        "id": "775KNwSLZIfL"
      },
      "execution_count": 57,
      "outputs": []
    },
    {
      "cell_type": "code",
      "source": [
        "# change values in gender column to read \"Female\" and \"Male\" instead of 1 and 2\n",
        "# cardiacdata <- mutate(cardiacdata, gender = ifelse(gender == 1, 'Female', \n",
        "#                                             ifelse(gender == 2, 'Male', NA)))"
      ],
      "metadata": {
        "id": "mTuVPT5ZZLyb"
      },
      "execution_count": 58,
      "outputs": []
    },
    {
      "cell_type": "code",
      "source": [
        "# head(cardiacdata)"
      ],
      "metadata": {
        "id": "GqdJqUxHZP7k"
      },
      "execution_count": 59,
      "outputs": []
    },
    {
      "cell_type": "markdown",
      "source": [
        "```\n",
        "3.1.6 Filtering Data\n",
        "```"
      ],
      "metadata": {
        "id": "-OhYkWlIZQ-m"
      }
    },
    {
      "cell_type": "code",
      "source": [
        "# filter for data from female subjects only\n",
        "# cardiacdata_female <- filter(cardiacdata, gender == 'Female')"
      ],
      "metadata": {
        "id": "1J62HcGCZToD"
      },
      "execution_count": 60,
      "outputs": []
    },
    {
      "cell_type": "markdown",
      "source": [
        "```\n",
        "3.1.7 Piping\n",
        "```"
      ],
      "metadata": {
        "id": "uafwb2R-ZWrZ"
      }
    },
    {
      "cell_type": "code",
      "source": [
        "# f(x)\n",
        "# g(x)\n",
        "# h(x)"
      ],
      "metadata": {
        "id": "Rql59rBqZZxm"
      },
      "execution_count": 61,
      "outputs": []
    },
    {
      "cell_type": "code",
      "source": [
        "# x %>% f() %>% g() %>% h()"
      ],
      "metadata": {
        "id": "pLcmjwciZtrW"
      },
      "execution_count": 62,
      "outputs": []
    },
    {
      "cell_type": "code",
      "source": [
        "# cardiacdata <- cardiacdata %>%\n",
        "#  filter(gender == 'Female') %>%\n",
        "#  select(-gender) %>%\n",
        "#  mutate(bodytemp_Kelvin = bodytemp_degC + 273)"
      ],
      "metadata": {
        "id": "e3tK7GnUZxzr"
      },
      "execution_count": 63,
      "outputs": []
    },
    {
      "cell_type": "markdown",
      "source": [
        "```\n",
        "3.1.8 Aggregating Data\n",
        "```"
      ],
      "metadata": {
        "id": "KXmfEd-XaCCV"
      }
    },
    {
      "cell_type": "code",
      "source": [
        "# cardiacdata_byGender <- cardiacdata %>%\n",
        "#  group_by(gender) %>%                                  # group by 'gender'\n",
        "#  summarize(avg_bodytemp_degF = mean(bodytemp_degF),    # aggregate using means\n",
        "#            avg_bodytemp_degC = mean(bodytemp_degC), \n",
        "#            avg_heartrate_bpm = mean(heartrate_bpm))  "
      ],
      "metadata": {
        "id": "vXDqBwEjaBzH"
      },
      "execution_count": 64,
      "outputs": []
    },
    {
      "cell_type": "markdown",
      "source": [
        "```\n",
        "3.1.9\n",
        "```"
      ],
      "metadata": {
        "id": "2GG0kRTRaKFQ"
      }
    },
    {
      "cell_type": "code",
      "source": [
        "some_numbers <- c(4,5,6,7,NA,8)\n",
        "\n",
        "mean(some_numbers)"
      ],
      "metadata": {
        "colab": {
          "base_uri": "https://localhost:8080/",
          "height": 34
        },
        "id": "1A-dhpNDaLcn",
        "outputId": "afee22a4-70da-4d5c-80e2-5b01a7255dd0"
      },
      "execution_count": 65,
      "outputs": [
        {
          "output_type": "display_data",
          "data": {
            "text/html": [
              "&lt;NA&gt;"
            ],
            "text/markdown": "&lt;NA&gt;",
            "text/latex": "<NA>",
            "text/plain": [
              "[1] NA"
            ]
          },
          "metadata": {}
        }
      ]
    },
    {
      "cell_type": "code",
      "source": [
        "mean(some_numbers, na.rm = TRUE)"
      ],
      "metadata": {
        "colab": {
          "base_uri": "https://localhost:8080/",
          "height": 34
        },
        "id": "CDfSpsXZaOs9",
        "outputId": "fc6e7499-3e66-4998-e68a-fbe797f8a768"
      },
      "execution_count": 66,
      "outputs": [
        {
          "output_type": "display_data",
          "data": {
            "text/html": [
              "6"
            ],
            "text/markdown": "6",
            "text/latex": "6",
            "text/plain": [
              "[1] 6"
            ]
          },
          "metadata": {}
        }
      ]
    },
    {
      "cell_type": "markdown",
      "source": [
        "```\n",
        "3.2.1 Histograms\n",
        "```"
      ],
      "metadata": {
        "id": "dOu4n5icaQag"
      }
    },
    {
      "cell_type": "code",
      "source": [
        "# ggplot(data = cardiacdata, mapping = aes(x = bodytemp_degC)) + \n",
        "#  geom_histogram(bins = 20)"
      ],
      "metadata": {
        "id": "vf5jBYI8aU1k"
      },
      "execution_count": 67,
      "outputs": []
    },
    {
      "cell_type": "code",
      "source": [
        "# ggplot(data = cardiacdata, mapping = aes(x = bodytemp_degC)) + \n",
        "#  geom_histogram(bins = 20, aes(y = ..density..))"
      ],
      "metadata": {
        "id": "QB7aD_23aXTg"
      },
      "execution_count": 68,
      "outputs": []
    },
    {
      "cell_type": "code",
      "source": [
        "# ggplot(data = cardiacdata, mapping = aes(x = bodytemp_degC)) + \n",
        "#   geom_histogram(bins = 20, aes(y = ..density..), fill = 'lightblue') +\n",
        "#   xlab('body temperature (celsius)') +\n",
        "#   ggtitle('distribution of body temperatures') +\n",
        "#   theme_light()"
      ],
      "metadata": {
        "id": "3lUvfkQVaah5"
      },
      "execution_count": 69,
      "outputs": []
    },
    {
      "cell_type": "markdown",
      "source": [
        "```\n",
        "3.2.2 Scatterplots\n",
        "```"
      ],
      "metadata": {
        "id": "cJ9RtMksafqw"
      }
    },
    {
      "cell_type": "code",
      "source": [
        "# ggplot(data = cardiacdata, mapping = aes(x = heartrate_bpm, y = bodytemp_degC)) + \n",
        "#   geom_point() +\n",
        "#   theme_light()"
      ],
      "metadata": {
        "id": "jAWuzKujae1l"
      },
      "execution_count": 70,
      "outputs": []
    },
    {
      "cell_type": "code",
      "source": [
        "# ggplot(data = cardiacdata, mapping = aes(x = heartrate_bpm, y = bodytemp_degC, color = gender)) + \n",
        "#   geom_point() +\n",
        "#   theme_light()"
      ],
      "metadata": {
        "id": "kAGx_4Gfaj46"
      },
      "execution_count": 71,
      "outputs": []
    },
    {
      "cell_type": "markdown",
      "source": [
        "```\n",
        "3.2.3 Box & Whisker Plots\n",
        "```"
      ],
      "metadata": {
        "id": "vgg3S-vPanYE"
      }
    },
    {
      "cell_type": "code",
      "source": [
        "# ggplot(data = cardiacdata, mapping = aes(x = gender, y = bodytemp_degC)) +\n",
        "#   geom_boxplot() +\n",
        "#   xlab('gender') +\n",
        "#   ylab('body temperature (celsius)') +\n",
        "#   theme_light()"
      ],
      "metadata": {
        "id": "lGJUVgLHamri"
      },
      "execution_count": 72,
      "outputs": []
    }
  ]
}